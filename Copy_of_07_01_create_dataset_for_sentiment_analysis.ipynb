{
  "nbformat": 4,
  "nbformat_minor": 0,
  "metadata": {
    "colab": {
      "name": "Copy of 07-01.create-dataset-for-sentiment-analysis.ipynb",
      "provenance": [],
      "collapsed_sections": [],
      "include_colab_link": true
    },
    "kernelspec": {
      "name": "python3",
      "display_name": "Python 3"
    }
  },
  "cells": [
    {
      "cell_type": "markdown",
      "metadata": {
        "id": "view-in-github",
        "colab_type": "text"
      },
      "source": [
        "<a href=\"https://colab.research.google.com/github/kevinyang1704/ExData_Plotting1/blob/master/Copy_of_07_01_create_dataset_for_sentiment_analysis.ipynb\" target=\"_parent\"><img src=\"https://colab.research.google.com/assets/colab-badge.svg\" alt=\"Open In Colab\"/></a>"
      ]
    },
    {
      "cell_type": "markdown",
      "metadata": {
        "id": "To_vEWFURtMX",
        "colab_type": "text"
      },
      "source": [
        "# Create a Dataset for Sentiment Analysis"
      ]
    },
    {
      "cell_type": "markdown",
      "metadata": {
        "id": "Y6gEob5LRoQB",
        "colab_type": "text"
      },
      "source": [
        "> TL;DR In this tutorial, you'll learn how to create a dataset for Sentiment Analysis by scraping user reviews for Android apps. You'll convert the app and review information into Data Frames and save that to CSV files.\n",
        "\n",
        "- [Read the tutorial](https://www.curiousily.com/posts/create-dataset-for-sentiment-analysis-by-scraping-google-play-app-reviews-using-python/)\n",
        "- [Run the notebook in your browser (Google Colab)](https://colab.research.google.com/drive/1GDJIpz7BXw55jl9wTOMQDool9m8DIOyp)\n",
        "- [Read the `Getting Things Done with Pytorch` book](https://github.com/curiousily/Getting-Things-Done-with-Pytorch)\n",
        "\n",
        "You'll learn how to:\n",
        "\n",
        "- Set a goal and inclusion criteria for your dataset\n",
        "- Get real-world user reviews by scraping Google Play\n",
        "- Use Pandas to convert and save the dataset into CSV files"
      ]
    },
    {
      "cell_type": "code",
      "metadata": {
        "id": "9TCGj-7hYXdK",
        "colab_type": "code",
        "cellView": "form",
        "colab": {
          "base_uri": "https://localhost:8080/",
          "height": 441
        },
        "outputId": "38dec8c7-3e28-402f-d27f-5bad0838f6fb"
      },
      "source": [
        "#@title Watch the video tutorial\n",
        "\n",
        "from IPython.display import YouTubeVideo\n",
        "YouTubeVideo('-CAC4wK9Ey0', width=720, height=420)"
      ],
      "execution_count": null,
      "outputs": [
        {
          "output_type": "execute_result",
          "data": {
            "text/html": [
              "\n",
              "        <iframe\n",
              "            width=\"720\"\n",
              "            height=\"420\"\n",
              "            src=\"https://www.youtube.com/embed/-CAC4wK9Ey0\"\n",
              "            frameborder=\"0\"\n",
              "            allowfullscreen\n",
              "        ></iframe>\n",
              "        "
            ],
            "text/plain": [
              "<IPython.lib.display.YouTubeVideo at 0x7f4727414d30>"
            ],
            "image/jpeg": "[encoded data removed]"
          },
          "metadata": {
            "tags": []
          },
          "execution_count": 2
        }
      ]
    },
    {
      "cell_type": "markdown",
      "metadata": {
        "id": "VI1Dobd2a3ZS",
        "colab_type": "text"
      },
      "source": [
        "## Setup\n",
        "\n",
        "Let's install the required packages and setup the imports:"
      ]
    },
    {
      "cell_type": "code",
      "metadata": {
        "id": "we0MhlUF_-uO",
        "colab_type": "code",
        "colab": {
          "base_uri": "https://localhost:8080/",
          "height": 51
        },
        "outputId": "b8b4b2dd-247b-4576-f977-52d27067ed3b"
      },
      "source": [
        "!pip install -qq google-play-scraper"
      ],
      "execution_count": 1,
      "outputs": [
        {
          "output_type": "stream",
          "text": [
            "\u001b[?25l\r\u001b[K     |██████▊                         | 10kB 21.3MB/s eta 0:00:01\r\u001b[K     |█████████████▍                  | 20kB 1.7MB/s eta 0:00:01\r\u001b[K     |████████████████████            | 30kB 2.2MB/s eta 0:00:01\r\u001b[K     |██████████████████████████▊     | 40kB 2.5MB/s eta 0:00:01\r\u001b[K     |████████████████████████████████| 51kB 1.6MB/s \n",
            "\u001b[?25h  Building wheel for google-play-scraper (setup.py) ... \u001b[?25l\u001b[?25hdone\n"
          ],
          "name": "stdout"
        }
      ]
    },
    {
      "cell_type": "code",
      "metadata": {
        "id": "1rxopHVPO-WO",
        "colab_type": "code",
        "colab": {}
      },
      "source": [
        "!pip install -qq -U watermark"
      ],
      "execution_count": 2,
      "outputs": []
    },
    {
      "cell_type": "code",
      "metadata": {
        "id": "NtL0sXa5PDsG",
        "colab_type": "code",
        "colab": {
          "base_uri": "https://localhost:8080/",
          "height": 170
        },
        "outputId": "c2727869-c47b-4632-9659-2a9fe1424dc6"
      },
      "source": [
        "%reload_ext watermark\n",
        "%watermark -v -p pandas,matplotlib,seaborn,google_play_scraper"
      ],
      "execution_count": 3,
      "outputs": [
        {
          "output_type": "stream",
          "text": [
            "CPython 3.6.9\n",
            "IPython 5.5.0\n",
            "\n",
            "pandas 1.0.5\n",
            "matplotlib 3.2.2\n",
            "seaborn 0.10.1\n",
            "google_play_scraper 0.0.3.0\n"
          ],
          "name": "stdout"
        },
        {
          "output_type": "stream",
          "text": [
            "/usr/local/lib/python3.6/dist-packages/statsmodels/tools/_testing.py:19: FutureWarning: pandas.util.testing is deprecated. Use the functions in the public API at pandas.testing instead.\n",
            "  import pandas.util.testing as tm\n"
          ],
          "name": "stderr"
        }
      ]
    },
    {
      "cell_type": "code",
      "metadata": {
        "id": "KO_DkQb1AeSY",
        "colab_type": "code",
        "colab": {}
      },
      "source": [
        "import json\n",
        "import pandas as pd\n",
        "from tqdm import tqdm\n",
        "\n",
        "import seaborn as sns\n",
        "import matplotlib.pyplot as plt\n",
        "\n",
        "from pygments import highlight\n",
        "from pygments.lexers import JsonLexer\n",
        "from pygments.formatters import TerminalFormatter\n",
        "\n",
        "from google_play_scraper import Sort, reviews, app\n",
        "\n",
        "%matplotlib inline\n",
        "%config InlineBackend.figure_format='retina'\n",
        "\n",
        "sns.set(style='whitegrid', palette='muted', font_scale=1.2)"
      ],
      "execution_count": 4,
      "outputs": []
    },
    {
      "cell_type": "markdown",
      "metadata": {
        "id": "ILxYFPjkSILt",
        "colab_type": "text"
      },
      "source": [
        "## The Goal of the Dataset\n",
        "\n",
        "You want to get feedback for your app. Both negative and positive are good. But the negative one can reveal critical features that are missing or downtime of your service (when it is much more frequent).\n",
        "\n",
        "Lucky for us, Google Play has plenty of apps, reviews, and scores. We can scrape app info and reviews using the [google-play-scraper](https://github.com/JoMingyu/google-play-scraper) package.\n",
        "\n",
        "You can choose plenty of apps to analyze. But different app categories contain different audiences, domain-specific quirks, and more. We'll start simple.\n",
        "\n",
        "We want apps that have been around some time, so opinion is collected organically. We want to mitigate advertising strategies as much as possible. Apps are constantly being updated, so the time of the review is an important factor.\n",
        "\n",
        "Ideally, you would want to collect every possible review and work with that. However, in the real world data is often limited (too large, inaccessible, etc). So, we'll do the best we can.\n",
        "\n",
        "Let's choose some apps that fit the criteria from the *Productivity* category. We'll use [AppAnnie](https://www.appannie.com/apps/google-play/top-chart/?country=US&category=29&device=&date=2020-04-05&feed=All&rank_sorting_type=rank&page_number=1&page_size=100&table_selections=) to select some of the top US apps:"
      ]
    },
    {
      "cell_type": "code",
      "metadata": {
        "id": "AyooW6bBAIl6",
        "colab_type": "code",
        "colab": {}
      },
      "source": [
        "app_packages = [\n",
        "  'com.chase.sig.android',\n",
        "  'com.microsoft.todos'\n",
        "]"
      ],
      "execution_count": 5,
      "outputs": []
    },
    {
      "cell_type": "markdown",
      "metadata": {
        "id": "EAxBAfyiZ-QC",
        "colab_type": "text"
      },
      "source": [
        "## Scraping App Information\n",
        "\n",
        "Let's scrape the info for each app:"
      ]
    },
    {
      "cell_type": "code",
      "metadata": {
        "id": "zusDZbd4AoOG",
        "colab_type": "code",
        "colab": {
          "base_uri": "https://localhost:8080/",
          "height": 34
        },
        "outputId": "24a4c27e-d1ec-499d-da4c-0721013abfe9"
      },
      "source": [
        "app_infos = []\n",
        "\n",
        "for ap in tqdm(app_packages):\n",
        "  info = app(ap, lang='en', country='us')\n",
        "  del info['comments']\n",
        "  app_infos.append(info)"
      ],
      "execution_count": 6,
      "outputs": [
        {
          "output_type": "stream",
          "text": [
            "100%|██████████| 2/2 [00:00<00:00,  2.18it/s]\n"
          ],
          "name": "stderr"
        }
      ]
    },
    {
      "cell_type": "markdown",
      "metadata": {
        "id": "HcqDfOxyNWrA",
        "colab_type": "text"
      },
      "source": [
        "We got the info for all 15 apps. Let's write a helper function that prints JSON objects a bit better:"
      ]
    },
    {
      "cell_type": "code",
      "metadata": {
        "id": "4n-vkhrZJPp_",
        "colab_type": "code",
        "colab": {}
      },
      "source": [
        "def print_json(json_object):\n",
        "  json_str = json.dumps(\n",
        "    json_object, \n",
        "    indent=2, \n",
        "    sort_keys=True, \n",
        "    default=str\n",
        "  )\n",
        "  print(highlight(json_str, JsonLexer(), TerminalFormatter()))"
      ],
      "execution_count": 7,
      "outputs": []
    },
    {
      "cell_type": "markdown",
      "metadata": {
        "id": "385fEVLONdac",
        "colab_type": "text"
      },
      "source": [
        "Here is a sample app information from the list:"
      ]
    },
    {
      "cell_type": "code",
      "metadata": {
        "id": "TI1s5NBAEl-X",
        "colab_type": "code",
        "colab": {
          "base_uri": "https://localhost:8080/",
          "height": 1000
        },
        "outputId": "cac1434e-0142-4cc3-d2a2-df01852197a1"
      },
      "source": [
        "print_json(app_infos[0])"
      ],
      "execution_count": 8,
      "outputs": [
        {
          "output_type": "stream",
          "text": [
            "{\n",
            "  \u001b[34;01m\"adSupported\"\u001b[39;49;00m: \u001b[34mnull\u001b[39;49;00m,\n",
            "  \u001b[34;01m\"androidVersion\"\u001b[39;49;00m: \u001b[33m\"6.0\"\u001b[39;49;00m,\n",
            "  \u001b[34;01m\"androidVersionText\"\u001b[39;49;00m: \u001b[33m\"6.0 and up\"\u001b[39;49;00m,\n",
            "  \u001b[34;01m\"appId\"\u001b[39;49;00m: \u001b[33m\"com.chase.sig.android\"\u001b[39;49;00m,\n",
            "  \u001b[34;01m\"containsAds\"\u001b[39;49;00m: \u001b[34mnull\u001b[39;49;00m,\n",
            "  \u001b[34;01m\"contentRating\"\u001b[39;49;00m: \u001b[33m\"Everyone\"\u001b[39;49;00m,\n",
            "  \u001b[34;01m\"contentRatingDescription\"\u001b[39;49;00m: \u001b[34mnull\u001b[39;49;00m,\n",
            "  \u001b[34;01m\"currency\"\u001b[39;49;00m: \u001b[33m\"USD\"\u001b[39;49;00m,\n",
            "  \u001b[34;01m\"description\"\u001b[39;49;00m: \u001b[33m\"Bank from almost anywhere with the Chase Mobile\\u00ae app. Manage your accounts, pay bills, pay people, deposit checks, even transfer money. And do it all safely and securely with your device.\\r\\n \\r\\nManage Your Accounts\\r\\n\\r\\n[+] View your account balance at Sign in using Account Preview.\\r\\n[+] Monitor your checking, savings, credit card or J.P. Morgan investment\\u00a0activities.\\r\\n[+] Set up travel notifications for your debit and credit cards.\\r\\n[+] Set up Account Alerts and adjust your preferences.\\r\\n[+] Use Chase QuickDeposit\\u00ae to deposit a check just by taking a photo.\\r\\n[+] Check and get updates on your credit score.\\r\\n[+] Access your personal Chase Home Lending dashboard for ways to make the most of homeownership.\\r\\n\\r\\nMake Payments and Transfer   \\r\\n\\r\\n[+] Schedule, edit or cancel payments for your Chase credit card and your other bills.\\r\\n[+] Send and request money using Chase QuickPay\\u00ae with Zelle\\u00ae \\r\\n[+] Transfer money between your Chase accounts.\\r\\n[+] Reload your Chase Liquid\\u00ae prepaid card.\\r\\n[+] Send wire transfers.\\r\\n\\r\\nOffers and Deals \\r\\n\\r\\n[+] Track and redeem your rewards with Chase Ultimate Rewards\\u00ae.  \\r\\n[+] Send friends and family a digital gift card.\\r\\n[+] Earn statement credit by using Chase Offers with your eligible credit and debit cards. \\r\\n[+] Grow your savings automatically with Autosave.\\r\\n\\r\\nManage Your Investments with J.P. Morgan \\r\\n\\r\\n[+] Trade stocks, bonds, mutual funds and exchange-traded funds (ETFs) with a You Invest\\u2120 by JPMorgan Trade account.\\r\\n[+] Let the expertise and technology of J.P. Morgan design and manage a portfolio for you with a You Invest\\u2120 Portfolios account.  \\r\\n\\r\\nConnect with Chase \\r\\n\\r\\n[+] Find the nearest Chase branches and ATMs. \\r\\n[+] Speak with a service representative 24/7. \\r\\n\\r\\nDisclosure\\r\\n\\r\\n[+] Some features are available for eligible customers and accounts only. Any time you review your balance, keep in mind it may not reflect all transactions including recent debit card transactions or checks you have written. A qualifying Chase transfer account is required to transfer funds via text. \\r\\n[+] There is no charge from Chase, but message and data rates may apply. Such charges include those from your communications service provider. Delivery of alerts may be delayed for various reasons, including service outages affecting your phone, wireless or internet provider; technology failures; and system capacity limitations. \\r\\n[+] You Invest\\u2120 is a business of J.P. Morgan Securities LLC offering self-directed brokerage (You Invest Trade) and investment advisory services (You Invest Portfolios). Investment products and services, including brokerage and advisory accounts, are offered through J.P. Morgan Securities LLC, member FINRA and SIPC. J.P. Morgan Securities LLC and JPMorgan Chase Bank, N.A. are affiliate companies under the common control of JPMorgan Chase & Co.\\r\\n\\r\\nINVESTMENT PRODUCTS:\\r\\n\\r\\n  \\u2022 NOT A DEPOSIT\\r\\n  \\u2022 NOT FDIC INSURED\\r\\n  \\u2022 NO BANK GUARANTEE\\r\\n  \\u2022 MAY LOSE VALUE\\r\\n\\r\\n[+] Android is a registered trademark of Google Inc. \\r\\n[+] Deposit products provided by JPMorgan Chase Bank, N.A. Member FDIC\\r\\n[+] Equal Opportunity Lender\"\u001b[39;49;00m,\n",
            "  \u001b[34;01m\"descriptionHTML\"\u001b[39;49;00m: \u001b[33m\"Bank from almost anywhere with the Chase Mobile\\u00ae app. Manage your accounts, pay bills, pay people, deposit checks, even transfer money. And do it all safely and securely with your device.<br> <br>Manage Your Accounts<br><br>[+] View your account balance at Sign in using Account Preview.<br>[+] Monitor your checking, savings, credit card or J.P. Morgan investment\\u00a0activities.<br>[+] Set up travel notifications for your debit and credit cards.<br>[+] Set up Account Alerts and adjust your preferences.<br>[+] Use Chase QuickDeposit\\u00ae to deposit a check just by taking a photo.<br>[+] Check and get updates on your credit score.<br>[+] Access your personal Chase Home Lending dashboard for ways to make the most of homeownership.<br><br>Make Payments and Transfer   <br><br>[+] Schedule, edit or cancel payments for your Chase credit card and your other bills.<br>[+] Send and request money using Chase QuickPay\\u00ae with Zelle\\u00ae <br>[+] Transfer money between your Chase accounts.<br>[+] Reload your Chase Liquid\\u00ae prepaid card.<br>[+] Send wire transfers.<br><br>Offers and Deals <br><br>[+] Track and redeem your rewards with Chase Ultimate Rewards\\u00ae.  <br>[+] Send friends and family a digital gift card.<br>[+] Earn statement credit by using Chase Offers with your eligible credit and debit cards. <br>[+] Grow your savings automatically with Autosave.<br><br>Manage Your Investments with J.P. Morgan <br><br>[+] Trade stocks, bonds, mutual funds and exchange-traded funds (ETFs) with a You Invest\\u2120 by JPMorgan Trade account.<br>[+] Let the expertise and technology of J.P. Morgan design and manage a portfolio for you with a You Invest\\u2120 Portfolios account.  <br><br>Connect with Chase <br><br>[+] Find the nearest Chase branches and ATMs. <br>[+] Speak with a service representative 24/7. <br><br>Disclosure<br><br>[+] Some features are available for eligible customers and accounts only. Any time you review your balance, keep in mind it may not reflect all transactions including recent debit card transactions or checks you have written. A qualifying Chase transfer account is required to transfer funds via text. <br>[+] There is no charge from Chase, but message and data rates may apply. Such charges include those from your communications service provider. Delivery of alerts may be delayed for various reasons, including service outages affecting your phone, wireless or internet provider; technology failures; and system capacity limitations. <br>[+] You Invest\\u2120 is a business of J.P. Morgan Securities LLC offering self-directed brokerage (You Invest Trade) and investment advisory services (You Invest Portfolios). Investment products and services, including brokerage and advisory accounts, are offered through J.P. Morgan Securities LLC, member FINRA and SIPC. J.P. Morgan Securities LLC and JPMorgan Chase Bank, N.A. are affiliate companies under the common control of JPMorgan Chase &amp; Co.<br><br>INVESTMENT PRODUCTS:<br><br>  \\u2022 NOT A DEPOSIT<br>  \\u2022 NOT FDIC INSURED<br>  \\u2022 NO BANK GUARANTEE<br>  \\u2022 MAY LOSE VALUE<br><br>[+] Android is a registered trademark of Google Inc. <br>[+] Deposit products provided by JPMorgan Chase Bank, N.A. Member FDIC<br>[+] Equal Opportunity Lender\"\u001b[39;49;00m,\n",
            "  \u001b[34;01m\"developer\"\u001b[39;49;00m: \u001b[33m\"JPMorgan Chase\"\u001b[39;49;00m,\n",
            "  \u001b[34;01m\"developerAddress\"\u001b[39;49;00m: \u001b[34mnull\u001b[39;49;00m,\n",
            "  \u001b[34;01m\"developerEmail\"\u001b[39;49;00m: \u001b[33m\"chasemobilesupport@emailonline.chase.com\"\u001b[39;49;00m,\n",
            "  \u001b[34;01m\"developerId\"\u001b[39;49;00m: \u001b[33m\"JPMorgan+Chase\"\u001b[39;49;00m,\n",
            "  \u001b[34;01m\"developerInternalID\"\u001b[39;49;00m: \u001b[33m\"8595673809068934433\"\u001b[39;49;00m,\n",
            "  \u001b[34;01m\"developerWebsite\"\u001b[39;49;00m: \u001b[33m\"http://www.Chase.com/mobile\"\u001b[39;49;00m,\n",
            "  \u001b[34;01m\"free\"\u001b[39;49;00m: \u001b[34mtrue\u001b[39;49;00m,\n",
            "  \u001b[34;01m\"genre\"\u001b[39;49;00m: \u001b[33m\"Finance\"\u001b[39;49;00m,\n",
            "  \u001b[34;01m\"genreId\"\u001b[39;49;00m: \u001b[33m\"FINANCE\"\u001b[39;49;00m,\n",
            "  \u001b[34;01m\"headerImage\"\u001b[39;49;00m: \u001b[33m\"https://lh3.googleusercontent.com/4_qZT-SW7eYInOmPDxFxoIwa7ksJUHnmJhPAMrmxFUTZvYlLwf4mzVmVbldbCkOZpw\"\u001b[39;49;00m,\n",
            "  \u001b[34;01m\"histogram\"\u001b[39;49;00m: [\n",
            "    \u001b[34m136864\u001b[39;49;00m,\n",
            "    \u001b[34m38324\u001b[39;49;00m,\n",
            "    \u001b[34m62095\u001b[39;49;00m,\n",
            "    \u001b[34m182937\u001b[39;49;00m,\n",
            "    \u001b[34m1186697\u001b[39;49;00m\n",
            "  ],\n",
            "  \u001b[34;01m\"icon\"\u001b[39;49;00m: \u001b[33m\"https://lh3.googleusercontent.com/nSkpJQa6V2cjC0JEgerrwner4IelIQzg06DZY8dtGwRsq6iXcrxCX2Iop_VI9pohvnI\"\u001b[39;49;00m,\n",
            "  \u001b[34;01m\"installs\"\u001b[39;49;00m: \u001b[33m\"10,000,000+\"\u001b[39;49;00m,\n",
            "  \u001b[34;01m\"minInstalls\"\u001b[39;49;00m: \u001b[34m10000000\u001b[39;49;00m,\n",
            "  \u001b[34;01m\"offersIAP\"\u001b[39;49;00m: \u001b[34mnull\u001b[39;49;00m,\n",
            "  \u001b[34;01m\"originalPrice\"\u001b[39;49;00m: \u001b[34mnull\u001b[39;49;00m,\n",
            "  \u001b[34;01m\"price\"\u001b[39;49;00m: \u001b[34m0\u001b[39;49;00m,\n",
            "  \u001b[34;01m\"privacyPolicy\"\u001b[39;49;00m: \u001b[33m\"https://www.chase.com/resources/consumer-privacy\"\u001b[39;49;00m,\n",
            "  \u001b[34;01m\"ratings\"\u001b[39;49;00m: \u001b[34m1606920\u001b[39;49;00m,\n",
            "  \u001b[34;01m\"recentChanges\"\u001b[39;49;00m: \u001b[33m\"We're frequently updating the app in order to give you the best experience. Turn on auto updates to ensure you always have the latest version.\\r\\n\\r\\nThis update includes:\\r\\n\\r\\n[+] Minor bug fixes and improvements.\"\u001b[39;49;00m,\n",
            "  \u001b[34;01m\"recentChangesHTML\"\u001b[39;49;00m: \u001b[33m\"We&#39;re frequently updating the app in order to give you the best experience. Turn on auto updates to ensure you always have the latest version.<br><br>This update includes:<br><br>[+] Minor bug fixes and improvements.\"\u001b[39;49;00m,\n",
            "  \u001b[34;01m\"released\"\u001b[39;49;00m: \u001b[33m\"Nov 19, 2010\"\u001b[39;49;00m,\n",
            "  \u001b[34;01m\"reviews\"\u001b[39;49;00m: \u001b[34m572032\u001b[39;49;00m,\n",
            "  \u001b[34;01m\"sale\"\u001b[39;49;00m: \u001b[34mfalse\u001b[39;49;00m,\n",
            "  \u001b[34;01m\"saleText\"\u001b[39;49;00m: \u001b[34mnull\u001b[39;49;00m,\n",
            "  \u001b[34;01m\"saleTime\"\u001b[39;49;00m: \u001b[34mnull\u001b[39;49;00m,\n",
            "  \u001b[34;01m\"score\"\u001b[39;49;00m: \u001b[34m4.3966336\u001b[39;49;00m,\n",
            "  \u001b[34;01m\"screenshots\"\u001b[39;49;00m: [\n",
            "    \u001b[33m\"https://lh3.googleusercontent.com/_3jUh7wtfGBU4IRvG1NS0WYEKYxTGguq6gBU9mT9xdxUaTpJbB-ydk_hofNklne_KGk\"\u001b[39;49;00m,\n",
            "    \u001b[33m\"https://lh3.googleusercontent.com/U6aUK1BA0SCxpjAPaLp7vbc4zilKRlkkaEOa6k4KhA5nm1GSgHnVAMOnBri8_O5hxVnq\"\u001b[39;49;00m,\n",
            "    \u001b[33m\"https://lh3.googleusercontent.com/2k675DD64gWlz29T0Kf2Sgm89mVTrcst-qAUTQgcl_lCXGjgD3JltamY2IlQqWoyxoM\"\u001b[39;49;00m,\n",
            "    \u001b[33m\"https://lh3.googleusercontent.com/ooP_eQlwdjsKgnOCCp99l7Ia8mDBuLNJCPW2PivFhPn6AFYgLc0_KvkmPsQ1j7Vgx_bo\"\u001b[39;49;00m,\n",
            "    \u001b[33m\"https://lh3.googleusercontent.com/8jayA6wKk9snqnGPcW9SYqdCovDWdflzj_mrbtpSgxnTyE7jTUkojxsKDH8R-dsAWfxK\"\u001b[39;49;00m,\n",
            "    \u001b[33m\"https://lh3.googleusercontent.com/NL9DVkN4D3na9cPHHT5Y_IFw39oPxEsyWidFAGjemStaAtKPiq9F1L5zNTl5SRRh1w\"\u001b[39;49;00m,\n",
            "    \u001b[33m\"https://lh3.googleusercontent.com/pbdfaNcQJFzvY6_OHXXwPDm1SbNMAZwrmlilElmdh7S4OQD-3gN2q7imY-SDVlafTQ\"\u001b[39;49;00m,\n",
            "    \u001b[33m\"https://lh3.googleusercontent.com/nb-wrEwlRPMhA0HmWjKaPxihWDd9Prg-73jmvD1BdI8I0kllliaKKkKSw2an7BsdUKU\"\u001b[39;49;00m\n",
            "  ],\n",
            "  \u001b[34;01m\"size\"\u001b[39;49;00m: \u001b[33m\"Varies with device\"\u001b[39;49;00m,\n",
            "  \u001b[34;01m\"summary\"\u001b[39;49;00m: \u001b[33m\"Our Chase Mobile App makes it easy for you to bank on the go 24/7.\"\u001b[39;49;00m,\n",
            "  \u001b[34;01m\"summaryHTML\"\u001b[39;49;00m: \u001b[33m\"Our Chase Mobile App makes it easy for you to bank on the go 24/7.\"\u001b[39;49;00m,\n",
            "  \u001b[34;01m\"title\"\u001b[39;49;00m: \u001b[33m\"Chase Mobile\"\u001b[39;49;00m,\n",
            "  \u001b[34;01m\"updated\"\u001b[39;49;00m: \u001b[34m1593801185\u001b[39;49;00m,\n",
            "  \u001b[34;01m\"url\"\u001b[39;49;00m: \u001b[33m\"https://play.google.com/store/apps/details?id=com.chase.sig.android&hl=en&gl=us\"\u001b[39;49;00m,\n",
            "  \u001b[34;01m\"version\"\u001b[39;49;00m: \u001b[33m\"4.130\"\u001b[39;49;00m,\n",
            "  \u001b[34;01m\"video\"\u001b[39;49;00m: \u001b[34mnull\u001b[39;49;00m,\n",
            "  \u001b[34;01m\"videoImage\"\u001b[39;49;00m: \u001b[34mnull\u001b[39;49;00m\n",
            "}\n",
            "\n"
          ],
          "name": "stdout"
        }
      ]
    },
    {
      "cell_type": "markdown",
      "metadata": {
        "id": "dAOdYGkYODcZ",
        "colab_type": "text"
      },
      "source": [
        "This contains lots of information including the number of ratings, number of reviews and number of ratings for each score (1 to 5). Let's ignore all of that and have a look at their beautiful icons:"
      ]
    },
    {
      "cell_type": "code",
      "metadata": {
        "id": "ni2zGSIIa6WT",
        "colab_type": "code",
        "colab": {
          "base_uri": "https://localhost:8080/",
          "height": 320
        },
        "outputId": "95486dcd-582d-4ecf-d610-59d1c60e8879"
      },
      "source": [
        "def format_title(title):\n",
        "  sep_index = title.find(':') if title.find(':') != -1 else title.find('-')\n",
        "  if sep_index != -1:\n",
        "    title = title[:sep_index]\n",
        "  return title[:15]\n",
        "\n",
        "fig, axs = plt.subplots(2, len(app_infos) // 2, figsize=(14, 5))\n",
        "\n",
        "for i, ax in enumerate(axs.flat):\n",
        "  ai = app_infos[i]\n",
        "  img = plt.imread(ai['icon'])\n",
        "  ax.imshow(img)\n",
        "  ax.set_title(format_title(ai['title']))\n",
        "  ax.axis('off')"
      ],
      "execution_count": 9,
      "outputs": [
        {
          "output_type": "display_data",
          "data": {
            "image/png": "[encoded data removed]",
            "text/plain": [
              "<Figure size 1008x360 with 2 Axes>"
            ]
          },
          "metadata": {
            "tags": [],
            "image/png": {
              "width": 137,
              "height": 303
            }
          }
        }
      ]
    },
    {
      "cell_type": "markdown",
      "metadata": {
        "id": "r-TwrzCHPJn0",
        "colab_type": "text"
      },
      "source": [
        "We'll store the app information for later by converting the JSON objects into a Pandas dataframe and saving the result into a CSV file:"
      ]
    },
    {
      "cell_type": "code",
      "metadata": {
        "id": "JJeUc7xjBxuq",
        "colab_type": "code",
        "colab": {}
      },
      "source": [
        "app_infos_df = pd.DataFrame(app_infos)\n",
        "app_infos_df.to_csv('apps.csv', index=None, header=True)"
      ],
      "execution_count": 10,
      "outputs": []
    },
    {
      "cell_type": "markdown",
      "metadata": {
        "id": "mXqklWjwPLVv",
        "colab_type": "text"
      },
      "source": [
        "## Scraping App Reviews\n",
        "\n",
        "In an ideal world, we would get all the reviews. But there are lots of them and we're scraping the data. That wouldn't be very polite. What should we do?\n",
        "\n",
        "We want:\n",
        "\n",
        "- Balanced dataset - roughly the same number of reviews for each score (1-5)\n",
        "- A representative sample of the reviews for each app\n",
        "\n",
        "We can satisfy the first requirement by using the scraping package option to filter the review score. For the second, we'll sort the reviews by their helpfulness, which are the reviews that Google Play thinks are most important. Just in case, we'll get a subset from the newest, too:"
      ]
    },
    {
      "cell_type": "code",
      "metadata": {
        "id": "vRIID99ZCfjv",
        "colab_type": "code",
        "colab": {
          "base_uri": "https://localhost:8080/",
          "height": 34
        },
        "outputId": "5c7c96ee-2634-4fa6-9038-d9c54dc4211d"
      },
      "source": [
        "app_reviews = []\n",
        "\n",
        "for ap in tqdm(app_packages):\n",
        "  for score in list(range(1, 6)):\n",
        "    for sort_order in [Sort.MOST_RELEVANT, Sort.NEWEST]:\n",
        "      rvs, _ = reviews(\n",
        "        ap,\n",
        "        lang='en',\n",
        "        country='us',\n",
        "        sort=sort_order,\n",
        "        count= 200 if score == 3 else 100,\n",
        "        filter_score_with=score\n",
        "      )\n",
        "      for r in rvs:\n",
        "        r['sortOrder'] = 'most_relevant' if sort_order == Sort.MOST_RELEVANT else 'newest'\n",
        "        r['appId'] = ap\n",
        "      app_reviews.extend(rvs)"
      ],
      "execution_count": 11,
      "outputs": [
        {
          "output_type": "stream",
          "text": [
            "100%|██████████| 2/2 [00:06<00:00,  3.42s/it]\n"
          ],
          "name": "stderr"
        }
      ]
    },
    {
      "cell_type": "markdown",
      "metadata": {
        "id": "gxQMuB20Wsnj",
        "colab_type": "text"
      },
      "source": [
        "Note that we're adding the app id and sort order to each review. Here's an example for one:"
      ]
    },
    {
      "cell_type": "code",
      "metadata": {
        "id": "tF5exqgWCh1Q",
        "colab_type": "code",
        "colab": {
          "base_uri": "https://localhost:8080/",
          "height": 292
        },
        "outputId": "33f21155-1cbd-4926-b6d5-0381f9984b45"
      },
      "source": [
        "print_json(app_reviews[0])"
      ],
      "execution_count": 12,
      "outputs": [
        {
          "output_type": "stream",
          "text": [
            "{\n",
            "  \u001b[34;01m\"appId\"\u001b[39;49;00m: \u001b[33m\"com.chase.sig.android\"\u001b[39;49;00m,\n",
            "  \u001b[34;01m\"at\"\u001b[39;49;00m: \u001b[33m\"2020-07-17 21:05:14\"\u001b[39;49;00m,\n",
            "  \u001b[34;01m\"content\"\u001b[39;49;00m: \u001b[33m\"The new update is the worst.\\ud83d\\ude21 First I had the challenge of trying to pay for my credit card bill, couldn't tap on \\\"other amount\\\" or any of the other payment amount options, I couldn't tap on my full statement/purchases for this month, and speaking to a customer service representative, he suggested I uninstall and reinstall the app only to be stuck on the user agreement and can't scroll or tap accept. Still on the phone, nothing's working. Very upsetting.\"\u001b[39;49;00m,\n",
            "  \u001b[34;01m\"repliedAt\"\u001b[39;49;00m: \u001b[34mnull\u001b[39;49;00m,\n",
            "  \u001b[34;01m\"replyContent\"\u001b[39;49;00m: \u001b[34mnull\u001b[39;49;00m,\n",
            "  \u001b[34;01m\"reviewCreatedVersion\"\u001b[39;49;00m: \u001b[33m\"4.130\"\u001b[39;49;00m,\n",
            "  \u001b[34;01m\"reviewId\"\u001b[39;49;00m: \u001b[33m\"gp:AOqpTOHgznZ_KWq4ueFPHQh3mT8DI0Xqv27HhyTvNnJ2JPwK_RZmHiosvjwz-qsOEpMBX1KVrKedt6N80tQKsfc\"\u001b[39;49;00m,\n",
            "  \u001b[34;01m\"score\"\u001b[39;49;00m: \u001b[34m1\u001b[39;49;00m,\n",
            "  \u001b[34;01m\"sortOrder\"\u001b[39;49;00m: \u001b[33m\"most_relevant\"\u001b[39;49;00m,\n",
            "  \u001b[34;01m\"thumbsUpCount\"\u001b[39;49;00m: \u001b[34m34\u001b[39;49;00m,\n",
            "  \u001b[34;01m\"userImage\"\u001b[39;49;00m: \u001b[33m\"https://lh3.googleusercontent.com/a-/AOh14GizWGxvW0sK02sUPryRQMasROmE3Vt2GXbZZu9hlw\"\u001b[39;49;00m,\n",
            "  \u001b[34;01m\"userName\"\u001b[39;49;00m: \u001b[33m\"Jennyflorr\"\u001b[39;49;00m\n",
            "}\n",
            "\n"
          ],
          "name": "stdout"
        }
      ]
    },
    {
      "cell_type": "markdown",
      "metadata": {
        "id": "R5hErADbOiMU",
        "colab_type": "text"
      },
      "source": [
        "`repliedAt` and `replyContent` contain the developer response to the review. Of course, they can be missing.\n",
        "\n",
        "How many app reviews did we get?\n",
        "\n"
      ]
    },
    {
      "cell_type": "code",
      "metadata": {
        "id": "e2YjMDQDOdC5",
        "colab_type": "code",
        "colab": {
          "base_uri": "https://localhost:8080/",
          "height": 34
        },
        "outputId": "8245639c-4541-4212-a94f-d605e7f7d082"
      },
      "source": [
        "len(app_reviews)"
      ],
      "execution_count": 13,
      "outputs": [
        {
          "output_type": "execute_result",
          "data": {
            "text/plain": [
              "2400"
            ]
          },
          "metadata": {
            "tags": []
          },
          "execution_count": 13
        }
      ]
    },
    {
      "cell_type": "markdown",
      "metadata": {
        "id": "K7FZVC0nOcJ9",
        "colab_type": "text"
      },
      "source": [
        "Let's save the reviews to a CSV file:"
      ]
    },
    {
      "cell_type": "code",
      "metadata": {
        "id": "1L7Nq2uwCjRI",
        "colab_type": "code",
        "colab": {}
      },
      "source": [
        "app_reviews_df = pd.DataFrame(app_reviews)\n",
        "app_reviews_df.to_csv('reviews.csv', index=None, header=True)"
      ],
      "execution_count": 14,
      "outputs": []
    },
    {
      "cell_type": "code",
      "metadata": {
        "id": "RtuvUjI3Fnno",
        "colab_type": "code",
        "colab": {
          "base_uri": "https://localhost:8080/",
          "height": 510
        },
        "outputId": "7a9cf05f-6761-4c88-9b1e-22397cdb82f4"
      },
      "source": [
        "app_reviews_df.head(5)"
      ],
      "execution_count": 16,
      "outputs": [
        {
          "output_type": "execute_result",
          "data": {
            "text/html": [
              "<div>\n",
              "<style scoped>\n",
              "    .dataframe tbody tr th:only-of-type {\n",
              "        vertical-align: middle;\n",
              "    }\n",
              "\n",
              "    .dataframe tbody tr th {\n",
              "        vertical-align: top;\n",
              "    }\n",
              "\n",
              "    .dataframe thead th {\n",
              "        text-align: right;\n",
              "    }\n",
              "</style>\n",
              "<table border=\"1\" class=\"dataframe\">\n",
              "  <thead>\n",
              "    <tr style=\"text-align: right;\">\n",
              "      <th></th>\n",
              "      <th>reviewId</th>\n",
              "      <th>userName</th>\n",
              "      <th>userImage</th>\n",
              "      <th>content</th>\n",
              "      <th>score</th>\n",
              "      <th>thumbsUpCount</th>\n",
              "      <th>reviewCreatedVersion</th>\n",
              "      <th>at</th>\n",
              "      <th>replyContent</th>\n",
              "      <th>repliedAt</th>\n",
              "      <th>sortOrder</th>\n",
              "      <th>appId</th>\n",
              "    </tr>\n",
              "  </thead>\n",
              "  <tbody>\n",
              "    <tr>\n",
              "      <th>0</th>\n",
              "      <td>gp:AOqpTOHgznZ_KWq4ueFPHQh3mT8DI0Xqv27HhyTvNnJ...</td>\n",
              "      <td>Jennyflorr</td>\n",
              "      <td>https://lh3.googleusercontent.com/a-/AOh14GizW...</td>\n",
              "      <td>The new update is the worst.😡 First I had the ...</td>\n",
              "      <td>1</td>\n",
              "      <td>34</td>\n",
              "      <td>4.130</td>\n",
              "      <td>2020-07-17 21:05:14</td>\n",
              "      <td>None</td>\n",
              "      <td>NaT</td>\n",
              "      <td>most_relevant</td>\n",
              "      <td>com.chase.sig.android</td>\n",
              "    </tr>\n",
              "    <tr>\n",
              "      <th>1</th>\n",
              "      <td>gp:AOqpTOFnbtRCA4qYTL5KLj4DMzuRECyz--AAZ3ufLnw...</td>\n",
              "      <td>Thoko 420</td>\n",
              "      <td>https://lh3.googleusercontent.com/-V2f0KJ7-8c0...</td>\n",
              "      <td>Ever since the last update, I have to keep uni...</td>\n",
              "      <td>1</td>\n",
              "      <td>129</td>\n",
              "      <td>4.130</td>\n",
              "      <td>2020-07-15 17:04:02</td>\n",
              "      <td>None</td>\n",
              "      <td>NaT</td>\n",
              "      <td>most_relevant</td>\n",
              "      <td>com.chase.sig.android</td>\n",
              "    </tr>\n",
              "    <tr>\n",
              "      <th>2</th>\n",
              "      <td>gp:AOqpTOHtQegpUqnxB4OY44CFy8ERNuVZ0280iXqoF8w...</td>\n",
              "      <td>Michael Ku</td>\n",
              "      <td>https://lh3.googleusercontent.com/a-/AOh14Gi7p...</td>\n",
              "      <td>App works decently well but there are a ton of...</td>\n",
              "      <td>1</td>\n",
              "      <td>59</td>\n",
              "      <td>4.130</td>\n",
              "      <td>2020-07-08 14:30:43</td>\n",
              "      <td>None</td>\n",
              "      <td>NaT</td>\n",
              "      <td>most_relevant</td>\n",
              "      <td>com.chase.sig.android</td>\n",
              "    </tr>\n",
              "    <tr>\n",
              "      <th>3</th>\n",
              "      <td>gp:AOqpTOFvMj3z_1eNynOocLHnq1XwY6cRqo5zJwWGpLC...</td>\n",
              "      <td>Mrs Oneida A Cox</td>\n",
              "      <td>https://lh3.googleusercontent.com/a-/AOh14GiEO...</td>\n",
              "      <td>The new look not user friendly! Not sure what ...</td>\n",
              "      <td>1</td>\n",
              "      <td>6</td>\n",
              "      <td>4.130</td>\n",
              "      <td>2020-07-16 22:51:08</td>\n",
              "      <td>None</td>\n",
              "      <td>NaT</td>\n",
              "      <td>most_relevant</td>\n",
              "      <td>com.chase.sig.android</td>\n",
              "    </tr>\n",
              "    <tr>\n",
              "      <th>4</th>\n",
              "      <td>gp:AOqpTOGVumw_wXxJjdYJDHMma6nnrTliYpDhgTo2C9B...</td>\n",
              "      <td>R Gifford</td>\n",
              "      <td>https://lh3.googleusercontent.com/-sbVWS0g6ZHY...</td>\n",
              "      <td>Quit making me update the app constantly in or...</td>\n",
              "      <td>1</td>\n",
              "      <td>5</td>\n",
              "      <td>4.130</td>\n",
              "      <td>2020-07-16 21:32:02</td>\n",
              "      <td>None</td>\n",
              "      <td>NaT</td>\n",
              "      <td>most_relevant</td>\n",
              "      <td>com.chase.sig.android</td>\n",
              "    </tr>\n",
              "  </tbody>\n",
              "</table>\n",
              "</div>"
            ],
            "text/plain": [
              "                                            reviewId  ...                  appId\n",
              "0  gp:AOqpTOHgznZ_KWq4ueFPHQh3mT8DI0Xqv27HhyTvNnJ...  ...  com.chase.sig.android\n",
              "1  gp:AOqpTOFnbtRCA4qYTL5KLj4DMzuRECyz--AAZ3ufLnw...  ...  com.chase.sig.android\n",
              "2  gp:AOqpTOHtQegpUqnxB4OY44CFy8ERNuVZ0280iXqoF8w...  ...  com.chase.sig.android\n",
              "3  gp:AOqpTOFvMj3z_1eNynOocLHnq1XwY6cRqo5zJwWGpLC...  ...  com.chase.sig.android\n",
              "4  gp:AOqpTOGVumw_wXxJjdYJDHMma6nnrTliYpDhgTo2C9B...  ...  com.chase.sig.android\n",
              "\n",
              "[5 rows x 12 columns]"
            ]
          },
          "metadata": {
            "tags": []
          },
          "execution_count": 16
        }
      ]
    },
    {
      "cell_type": "markdown",
      "metadata": {
        "id": "Ve-yHopLEz1v",
        "colab_type": "text"
      },
      "source": [
        "## Summary\n",
        "\n",
        "Well done! You now have a dataset with more than 15k user reviews from 15 productivity apps. Of course, you can go crazy and get much much more.\n",
        "\n",
        "- [Read the tutorial](https://www.curiousily.com/posts/create-dataset-for-sentiment-analysis-by-scraping-google-play-app-reviews-using-python/)\n",
        "- [Run the notebook in your browser (Google Colab)](https://colab.research.google.com/drive/1GDJIpz7BXw55jl9wTOMQDool9m8DIOyp)\n",
        "- [Read the `Getting Things Done with Pytorch` book](https://github.com/curiousily/Getting-Things-Done-with-Pytorch)\n",
        "\n",
        "You learned how to:\n",
        "\n",
        "- Set goals and expectations for your dataset\n",
        "- Scrape Google Play app information\n",
        "- Scrape user reviews for Google Play apps\n",
        "- Save the dataset to CSV files\n",
        "\n",
        "Next, we're going to use the reviews for sentiment analysis with BERT. But first, we'll have to do some text preprocessing!\n"
      ]
    },
    {
      "cell_type": "markdown",
      "metadata": {
        "id": "Z7Jd157eUaa-",
        "colab_type": "text"
      },
      "source": [
        "## References\n",
        "\n",
        "- [Google Play Scraper for Python](https://github.com/JoMingyu/google-play-scraper)"
      ]
    }
  ]
}